{
 "cells": [
  {
   "cell_type": "markdown",
   "metadata": {},
   "source": [
    "# 3.5 Information filter"
   ]
  },
  {
   "attachments": {},
   "cell_type": "markdown",
   "metadata": {},
   "source": [
    "## Canonical Parameterization\n",
    "\n",
    "Information matrix $\\Omega$\n",
    "\n",
    "$\\Omega = \\Sigma^{-1}$\n",
    "\n",
    "Information vector $\\xi$\n",
    "\n",
    "$\\xi = \\Sigma^{-1}\\mu$"
   ]
  },
  {
   "attachments": {},
   "cell_type": "markdown",
   "metadata": {},
   "source": [
    "Table 3.5 The information filter algorithm\n",
    "\n",
    "Algorithm Information_filter($\\xi_{t-1}$, $\\Omega_{t-1}$, $u_t$, $z_t$)\n",
    "\n",
    " - Prediction\n",
    "\n",
    "   - $\\bar{\\Omega}_{t} = \\left( A_t \\Omega^{-1}_{t-1} A^T_t + R_t\\right)^{-1}$\n",
    "\n",
    "   - $\\bar{\\xi}_t = \\bar{\\Omega}_t \\left(A_t \\Omega^{-1}_{t-1} \\xi_{t-1} + B_t u_t \\right)$\n",
    "\n",
    " - Update\n",
    "\n",
    "   - $\\Omega_t = C^T_t Q^{-1}_t C_t + \\bar{\\Omega}_t$\n",
    "\n",
    "   - $\\xi_t = C^T_t Q^{-1}_t z_t + \\bar{\\xi}_t$\n",
    "\n",
    "return $\\xi_t$, $\\Omega_t$"
   ]
  }
 ],
 "metadata": {
  "kernelspec": {
   "display_name": "Python 3",
   "language": "python",
   "name": "python3"
  },
  "language_info": {
   "name": "python",
   "version": "3.7.3 (v3.7.3:ef4ec6ed12, Mar 25 2019, 22:22:05) [MSC v.1916 64 bit (AMD64)]"
  },
  "orig_nbformat": 4,
  "vscode": {
   "interpreter": {
    "hash": "54557553bfbcca3fb1d04c4ad87574d061d86ba8e5a84772a6e9598bc93dfc20"
   }
  }
 },
 "nbformat": 4,
 "nbformat_minor": 2
}
