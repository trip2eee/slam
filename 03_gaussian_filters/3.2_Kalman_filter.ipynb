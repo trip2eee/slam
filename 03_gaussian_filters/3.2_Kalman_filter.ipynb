{
 "cells": [
  {
   "attachments": {},
   "cell_type": "markdown",
   "metadata": {},
   "source": [
    "# 3.2 Kalman Filter"
   ]
  },
  {
   "attachments": {},
   "cell_type": "markdown",
   "metadata": {},
   "source": [
    "Table 3.1 The Kalman filter algorithm for linear Gaussian state transitions and measurements\n",
    "\n",
    "\n",
    "Algorithm Kalman_filter($\\mu_{t-1}$, $\\Sigma_{t-1}$, $u_t$, $z_t$)\n",
    "\n",
    "- Prediction\n",
    "\n",
    "  - $\\bar{\\mu}_t = A_t \\mu_{t-1} + B_t u_t $\n",
    "\n",
    "  - $\\bar{\\Sigma}_t = A_t \\Sigma_{t-1} A^T_t + R_t$\n",
    "\n",
    "- Update\n",
    "\n",
    "  - $K_t = \\bar{\\Sigma}_t C^T_t \\left(C_t \\bar{\\Sigma} C^T_t + Q_t \\right)^{-1}$\n",
    "\n",
    "  - $ \\mu_t = \\bar{\\mu}_t + K_t \\left(z_t - C_t \\bar{\\mu}_t \\right)$\n",
    "\n",
    "  - $ \\Sigma_t = \\left(I - K_t C_t\\right) \\bar{\\Sigma}_t $\n",
    "\n",
    "return $\\mu_t$, $\\Sigma_t$\n",
    "\n",
    "- $C_t$: Measurement matrix $k \\times n$, $k$ is the dimension of the measurement vector $z_t$\n",
    "- $z_t$: Measurement vector\n",
    "- $Q_t$: Measurement covariance matrix\n"
   ]
  }
 ],
 "metadata": {
  "kernelspec": {
   "display_name": "Python 3",
   "language": "python",
   "name": "python3"
  },
  "language_info": {
   "name": "python",
   "version": "3.7.3 (v3.7.3:ef4ec6ed12, Mar 25 2019, 22:22:05) [MSC v.1916 64 bit (AMD64)]"
  },
  "orig_nbformat": 4,
  "vscode": {
   "interpreter": {
    "hash": "54557553bfbcca3fb1d04c4ad87574d061d86ba8e5a84772a6e9598bc93dfc20"
   }
  }
 },
 "nbformat": 4,
 "nbformat_minor": 2
}
