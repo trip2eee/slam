{
 "cells": [
  {
   "cell_type": "markdown",
   "metadata": {},
   "source": [
    "# 3.5.4 The Extended Information Filter Algorithm"
   ]
  },
  {
   "cell_type": "markdown",
   "metadata": {},
   "source": [
    "$x_t = g\\left(u_t, x_{t-1}\\right) + \\epsilon_t$\n",
    "\n",
    "$z_t = h(x_t) + \\delta_t$\n",
    "\n",
    "$g$ and $h$ require a state as an input. This mandates the recovery of a state estiamte $\\mu$ from the canonical parameters.\n"
   ]
  },
  {
   "cell_type": "markdown",
   "metadata": {},
   "source": [
    "### Mathematical Derivation of the Extended Information Filter"
   ]
  },
  {
   "cell_type": "markdown",
   "metadata": {},
   "source": [
    "Taylor expansion\n",
    "\n",
    "\n",
    "$bel\\left( x_t \\right) \\sim \\mathcal{N} \\left(x_t; \\mu_t, \\Sigma_t \\right)$\n",
    "\n",
    "$x_t$: Random variable at $t$\n",
    "\n",
    "$\\mu_t$: Mean value at $t$\n",
    "\n",
    "$ g\\left(u_t, x_{t-1}\\right) \\approx g\\left(u_t, \\mu_{t-1}\\right) + G_t \\left(x_{t-1} - \\mu_{t-1}\\right)$\n",
    "\n",
    "$ h\\left(x_t\\right) \\approx h\\left(\\bar{\\mu}_t\\right) + H_t \\left(x_t - \\bar{\\mu}_t\\right)$\n",
    "\n",
    "\n",
    "where\n",
    "\n",
    "$G_t = g'\\left(u_t, \\mu_{t-1}\\right)$\n",
    "\n",
    "$H_t = h'\\left(\\bar{\\mu}_t\\right)$\n",
    "\n",
    "#### Prediction\n",
    "\n",
    "$\\bar{\\Sigma}_t = G_t \\Sigma_{t-1}G^T_t + R_t$\n",
    "\n",
    "$\\bar{\\mu}_t = g\\left(u_t, \\mu_{t-1}\\right)$\n",
    "\n",
    "Restate in the information form.\n",
    "\n",
    "$\\bar{\\Omega}_t = \\left(G_t \\Omega^{-1}_{t-1} G^T_t + R_t  \\right)^{-1} $\n",
    "\n",
    "$\\bar{\\xi}_t = \\bar{\\Omega}_t g\\left(u_t, \\Omega^{-1}_{t-1} \\xi_{t-1}\\right)$\n",
    "\n",
    "\n",
    "#### Measurement Update\n",
    "\n",
    "$bel\\left(x_t \\right) = \\eta \\cdot exp \\left\\lbrace -\\frac{1}{2} \\left(z_t - h\\left(x_t\\right)\\right)^T Q^{-1}_t \\left(z_t - h\\left(x_t\\right) \\right) - \\frac{1}{2} \\left(x_t - \\bar{\\mu} \\right)^T \\bar{\\Sigma}^{-1}_t \\left(x_t - \\bar{\\mu} \\right) \\right\\rbrace$\n",
    "\n",
    "$= \\eta \\cdot exp \\left\\lbrace -\\frac{1}{2} \\left(z_t - h\\left(\\bar{\\mu}_t\\right) - H_t \\left(x_t - \\bar{\\mu}_t\\right)\\right)^T Q^{-1}_t \\left(z_t - h\\left(\\bar{\\mu}_t\\right) - H_t \\left(x_t - \\bar{\\mu}_t\\right) \\right) - \\frac{1}{2} \\left(x_t - \\bar{\\mu} \\right)^T \\bar{\\Sigma}^{-1}_t \\left(x_t - \\bar{\\mu} \\right) \\right\\rbrace $\n",
    "\n",
    "$ = \\eta' \\cdot exp \\left\\lbrace -\\frac{1}{2}x^T_t \\left[H^T_t Q^{-1}_tH_t + \\bar{\\Sigma}^{-1}_t \\right]x_t + x^T_t \\left[ H^T_t Q^{-1}_t \\left[z_t - h\\left(\\bar{\\mu}_t\\right) + H_t \\bar{\\mu}_t \\right] + \\bar{\\xi}_t \\right] \\right\\rbrace$\n",
    "\n",
    "$\\Omega_t = \\bar{\\Omega}_t + H^T_t Q^{-1}_tH_t$\n",
    "\n",
    "$\\xi_t = \\bar{\\xi}_t + H^T_t Q^{-1}_t \\left[z_t - h\\left(\\bar{\\mu}_t\\right) + H_t \\bar{\\mu}_t \\right]$\n"
   ]
  },
  {
   "cell_type": "markdown",
   "metadata": {},
   "source": [
    "### Example\n",
    "\n",
    "11_the_graph_slam_algorithm/eif_test.ipynb"
   ]
  }
 ],
 "metadata": {
  "kernelspec": {
   "display_name": "Python 3",
   "language": "python",
   "name": "python3"
  },
  "language_info": {
   "codemirror_mode": {
    "name": "ipython",
    "version": 3
   },
   "file_extension": ".py",
   "mimetype": "text/x-python",
   "name": "python",
   "nbconvert_exporter": "python",
   "pygments_lexer": "ipython3",
   "version": "3.7.3"
  }
 },
 "nbformat": 4,
 "nbformat_minor": 2
}
