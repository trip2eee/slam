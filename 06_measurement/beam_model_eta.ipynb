{
 "cells": [
  {
   "cell_type": "markdown",
   "metadata": {},
   "source": [
    "# Beam Model"
   ]
  },
  {
   "cell_type": "code",
   "execution_count": 9,
   "metadata": {},
   "outputs": [
    {
     "data": {
      "text/latex": [
       "$\\displaystyle \\frac{\\sqrt{2} e^{- \\frac{0.5 \\left(x - z\\right)^{2}}{s_{hit}^{2}}}}{2 \\sqrt{\\pi} \\sqrt{s_{hit}^{2}}}$"
      ],
      "text/plain": [
       "sqrt(2)*exp(-0.5*(x - z)**2/s_hit**2)/(2*sqrt(pi)*sqrt(s_hit**2))"
      ]
     },
     "metadata": {},
     "output_type": "display_data"
    },
    {
     "data": {
      "text/latex": [
       "$\\displaystyle \\frac{0.353553390593274 \\sqrt{2} s_{hit} \\operatorname{erf}{\\left(\\frac{0.707106781186548 z}{s_{hit}} \\right)}}{\\sqrt{s_{hit}^{2}}}$"
      ],
      "text/plain": [
       "0.353553390593274*sqrt(2)*s_hit*erf(0.707106781186548*z/s_hit)/sqrt(s_hit**2)"
      ]
     },
     "metadata": {},
     "output_type": "display_data"
    },
    {
     "data": {
      "text/latex": [
       "$\\displaystyle \\frac{0.353553390593274 \\sqrt{2} s_{hit} \\operatorname{erf}{\\left(\\frac{0.707106781186548 \\left(x - z\\right)}{s_{hit}} \\right)}}{\\sqrt{s_{hit}^{2}}}$"
      ],
      "text/plain": [
       "0.353553390593274*sqrt(2)*s_hit*erf(0.707106781186548*(x - z)/s_hit)/sqrt(s_hit**2)"
      ]
     },
     "metadata": {},
     "output_type": "display_data"
    }
   ],
   "source": [
    "import sympy as sp\n",
    "import numpy as np\n",
    "import IPython.display\n",
    "\n",
    "pi = sp.pi\n",
    "s_hit = sp.symbols('s_hit')\n",
    "x, z = sp.symbols('x z')\n",
    "\n",
    "N = 1/sp.sqrt(2*pi*s_hit**2) * sp.exp(-1/2*(x-z)**2 / s_hit**2)\n",
    "\n",
    "display(N)\n",
    "dN = sp.integrate(N, (x, 0, z))\n",
    "display(dN)\n",
    "\n",
    "dN = sp.integrate(N, x)\n",
    "display(dN)\n",
    "\n"
   ]
  }
 ],
 "metadata": {
  "kernelspec": {
   "display_name": "Python 3",
   "language": "python",
   "name": "python3"
  },
  "language_info": {
   "codemirror_mode": {
    "name": "ipython",
    "version": 3
   },
   "file_extension": ".py",
   "mimetype": "text/x-python",
   "name": "python",
   "nbconvert_exporter": "python",
   "pygments_lexer": "ipython3",
   "version": "3.7.3"
  }
 },
 "nbformat": 4,
 "nbformat_minor": 2
}
