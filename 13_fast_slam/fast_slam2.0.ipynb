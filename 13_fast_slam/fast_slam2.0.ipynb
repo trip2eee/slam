{
 "cells": [
  {
   "cell_type": "markdown",
   "metadata": {},
   "source": [
    "# Fast SLAM 2.0\n",
    "\n",
    "Fast SLAM 2.0 with multiple measurements.\n",
    "\n",
    "Fast SLAM 1.0 samples poses based on the control $u_t$ only, and then uses the measurement $z_t$ to calculate importance weights.\n",
    "\n",
    "Fast SLAM 2.0 samples poses based on the measurement $z_t$ in addition to the control $u_t$"
   ]
  },
  {
   "cell_type": "markdown",
   "metadata": {},
   "source": [
    "### Pose Update $x^{[k]}_t$"
   ]
  },
  {
   "cell_type": "markdown",
   "metadata": {},
   "source": [
    "Algorithm Fast SLAM 2.0 stated in the book estimate robot poses $x^{[k]}_{t,j}$ for each map feature $j$.\n",
    "\n",
    "Pose for map feature $j$\n",
    " - Mean: $\\mu_{x_t,j}$\n",
    " - Covariance: $\\Sigma_{x,j}$\n",
    "\n",
    "Let's define the optimal pose distribution as\n",
    "\n",
    "$p(x_t) = \\Pi_j p(x_{t,j} \\mid z_t, u_t)$\n",
    "\n",
    "$p(x_t) = \\eta \\exp \\left\\lbrace -J_t \\right\\rbrace$\n",
    "\n",
    "$J_t = \\sum_j \\frac{1}{2}\\left(x_t - \\mu_j\\right)^T \\Sigma^{-1}_{x,j}\\left(x_t - \\mu_j\\right)$\n",
    "\n",
    "Mean\n",
    "\n",
    "$\\frac{\\partial J_t}{\\partial x_t} = \\sum_j \\Sigma^{-1}_{x,j}\\left(\\mu_t - \\mu_j\\right) = 0$\n",
    "\n",
    "$\\sum_j \\Sigma^{-1}_{x,j} \\mu_t = \\sum_j \\Sigma^{-1}_{x,j}\\mu_j $\n",
    "\n",
    "$\\mu_t = \\left(\\sum_j \\Sigma^{-1}_{x,j}\\right)^{-1}\\sum_j \\Sigma^{-1}_{x,j}\\mu_j $\n",
    "\n",
    "$= \\left(\\Sigma^{-1}_{x,0} + \\Sigma^{-1}_{x,1} + \\cdots  + \\Sigma^{-1}_{x,N-1}\\right)^{-1}\\left(\\Sigma^{-1}_{x,0}\\mu_{0} + \\Sigma^{-1}_{x,1}\\mu_{1} + \\cdots  + \\Sigma^{-1}_{x,N-1}\\mu_{N-1} \\right)$\n",
    "\n",
    "Covariance\n",
    "\n",
    "$\\frac{\\partial^2 J_t}{\\partial x_t^2} = \\sum_j \\Sigma^{-1}_{x,j}$\n",
    "\n",
    "$\\Sigma_x = \\left(\\sum_j \\Sigma^{-1}_{x,j}\\right)^{-1}$\n",
    "\n",
    "$= \\left(\\Sigma^{-1}_{x,0} + \\Sigma^{-1}_{x,1} + \\cdots  + \\Sigma^{-1}_{x,N-1}\\right)^{-1} $\n",
    "\n"
   ]
  },
  {
   "cell_type": "markdown",
   "metadata": {},
   "source": [
    "### Algorithm FastSLAM 2.0 ($z_t$, $u_t$, $Y_{t-1}$)"
   ]
  },
  {
   "cell_type": "markdown",
   "metadata": {},
   "source": [
    "for $k = 0$ to $M-1$ do\n",
    "- Retrieve a particle from $Y_{t-1}$\n",
    "- $\\hat{x}_{j,t} = g\\left(x^{[k]}_{t-1}, u_t\\right)$ Predict Pose\n",
    "\n",
    "- for each feature $j=0$ to $N^{[k]}_{t-1}-1$\n",
    "  - $\\bar{z}_j = h\\left(\\mu^{[k]}_{j,t-1}, \\hat{x}_{t}\\right)$ Predict measurement 1\n",
    "  - $H_{x,j} = \\nabla_{x_t} h\\left(\\mu^{[k]}_{j,t-1}, \\hat{x}_{j,t} \\right)$ Jacobian with respect to pose\n",
    "  - $H_{m,j} = \\nabla_{m_j} h\\left(\\mu^{[k]}_{j,t-1}, \\hat{x}_{j,t} \\right)$ Jacobian with respect to map feature\n",
    "  - $Q_j = Q_t + H_{m,j} \\Sigma^{[k]}_{j,t-1} H^T_{m,j}$ Measurement information\n",
    "  - $\\Sigma_{x,j} = \\left[H^T_{x,j} Q^{-1}_{j} H_{x,j} + R^{-1}\\right]^{-1}$ Covariance of proposal distribution\n",
    "\n",
    "- for each measurement $z_i$\n",
    "  - for each feature $j=0$ to $N^{[k]}_{t-1}-1$\n",
    "    - $\\pi_j = \\left|2\\pi Q_j\\right|^{-\\frac{1}{2}} exp\\left\\lbrace-\\frac{1}{2} \\left(z_t-\\bar{z}_j\\right)^T Q^{-1}_j \\left(z_t-\\bar{z}_j\\right) \\right\\rbrace$ Correspondence likelihood\n",
    "    - find the optimal correspondence\n",
    "\n",
    "  - if the optimum correspondence for $z_i$ is not found\n",
    "    - $x^{[k]}_{t,j} \\sim p\\left(x_t \\mid x^{[k]}_{t-1}, u_t\\right)$ sample pose\n",
    "    - $\\mu^{[k]}_{j,t} = h^{-1}\\left(z_t, x^{[k]}_t\\right)$ initialize mean\n",
    "    - $H_{m,j} = \\nabla_{m_j} h\\left(\\mu^{[k]}_{j,t}, x^{[k]}_t\\right)$ Jacobian with respect to map feature\n",
    "    - $\\Sigma^{[k]}_{j,t} = \\left(H^{-1}_{m,j}\\right)^T Q_t H^{-1}_{m,j}$ initialize covariance\n",
    "    - $i^{[k]}_{j,t} = 1$ initialize counter\n",
    "    - $w^{[k]} = p_0$ importance weight\n",
    "  - else if the optimum correspondence is found\n",
    "    - $\\mu_{x_t, j} = \\hat{x}_{j,t} + \\Sigma_{x,j} H^T_{x,j} Q^{-1}_j \\left(z_t - \\bar{z}_j\\right)$ mean of proposal distribution      \n",
    "\n",
    "  - compute summations\n",
    "    - $\\sum_j \\Sigma^{-1}_{x,j}$\n",
    "    - $\\sum_j \\Sigma^{-1}_{x,j}\\mu_j$\n",
    "\n",
    "- compute the mean and variance of the pose\n",
    "- $\\mu_t = \\left(\\sum_j \\Sigma^{-1}_{x,j}\\right)^{-1}\\sum_j \\Sigma^{-1}_{x,j}\\mu_j $\n",
    "- $\\Sigma_x = \\left(\\sum_j \\Sigma^{-1}_{x,j}\\right)^{-1}$\n",
    "- $x^{[k]}_{t} \\sim \\mathcal{N}\\left(\\mu_{x_{t}}, \\Sigma_{x}\\right)$  sample pose\n",
    "\n",
    "- for each feature $j=0$ to $N^{[k]}_{t}-1$\n",
    "  - if the correspondence is found\n",
    "    - $K = \\Sigma^{[k]}_{j,t-1} H^T_{m,j}Q^{-1}_j$ calculate Kalmangain\n",
    "    - $\\hat{z}_j = h\\left(\\mu^{[k]}_{j,t-1}, x^{[k]}_{t}\\right)$ Predict measurement 2\n",
    "    - $\\mu^{[k]}_{j,t} = \\mu^{[k]}_{j,t-1} + K\\left(z_t - \\hat{z}_j\\right)$ update mean\n",
    "    - $\\Sigma^{[k]}_{j,t} = \\left(I - K H_{m,j}\\right) \\Sigma^{[k]}_{j,t-1}$ update covariance\n",
    "    - $i^{[k]}_{j,t} = i^{[k]}_{j,t-1} + 1$ increment counter\n",
    "    - $L = H_{x,j}R_tH^T_{x,j} + H_{m,j}\\Sigma^{[k]}_{j,t-1}H^T_{m,j} + Q_t$\n",
    "    - $w^{[k]}_j = \\left|2\\pi L\\right|^{-\\frac{1}{2}} \\exp\\left\\lbrace -\\frac{1}{2}\\left(z_t - \\hat{z}_j \\right)^TL^{-1}\\left(z_t - \\hat{z}_j \\right)\\right\\rbrace$ importance weight\n",
    "\n"
   ]
  }
 ],
 "metadata": {
  "language_info": {
   "name": "python"
  }
 },
 "nbformat": 4,
 "nbformat_minor": 2
}
