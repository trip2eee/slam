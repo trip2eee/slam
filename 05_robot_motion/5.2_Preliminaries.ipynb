{
 "cells": [
  {
   "attachments": {},
   "cell_type": "markdown",
   "metadata": {},
   "source": [
    "# 5.2 Preliminaries"
   ]
  },
  {
   "attachments": {},
   "cell_type": "markdown",
   "metadata": {},
   "source": [
    "## 5.2.1 Kinematic Configuration"
   ]
  },
  {
   "attachments": {},
   "cell_type": "markdown",
   "metadata": {},
   "source": [
    " Kinematics: The calculus describing the effect of control actions on the configuration of a robot.\n",
    " \n",
    " Configuration of a rigid mobile robot: three-dimensional Cartesian coordinate and its three Euler angles (roll, pitch, yaw)\n",
    "\n",
    " Pose: two-dimensional planar coordinates $(x,y)$ relative to an external coordinate frame, along with its angular orientation $\\theta$.\n",
    " \n",
    "$\\begin{bmatrix}x \\\\ y \\\\ \\theta \\end{bmatrix}$"
   ]
  },
  {
   "cell_type": "code",
   "execution_count": 40,
   "metadata": {},
   "outputs": [
    {
     "data": {
      "text/plain": [
       "Text(0, 0.5, 'y')"
      ]
     },
     "execution_count": 40,
     "metadata": {},
     "output_type": "execute_result"
    },
    {
     "data": {
      "image/png": "[encoded data removed]",
      "text/plain": [
       "<Figure size 432x288 with 1 Axes>"
      ]
     },
     "metadata": {
      "needs_background": "light"
     },
     "output_type": "display_data"
    }
   ],
   "source": [
    "import matplotlib.pyplot as plt\n",
    "import numpy as np\n",
    "\n",
    "def draw_robot(cx, cy, angle, r=0.15):\n",
    "    \"\"\" (cx, cy): the center of a robot (unit: m)\n",
    "        angle: heading angle in rad. 0:points into the x-axis, 0.5pi:points into the y-axis\n",
    "        r: the radius of a robot (unit: m)\n",
    "    \"\"\"\n",
    "    robot_x = []\n",
    "    robot_y = []\n",
    "    for a in range(360):\n",
    "        a_rad = np.pi * a / 180.0\n",
    "        xi = r*np.cos(a_rad) + cx\n",
    "        yi = r*np.sin(a_rad) + cy\n",
    "        robot_x.append(xi)\n",
    "        robot_y.append(yi)\n",
    "    \n",
    "    plt.plot(robot_x, robot_y, c='b')\n",
    "    heading_x = r*np.cos(angle) + cx\n",
    "    heading_y = r*np.sin(angle) + cy\n",
    "    plt.plot([cx, heading_x], [cy, heading_y], c='r')\n",
    "\n",
    "\n",
    "plt.figure()\n",
    "draw_robot(1, 1, 135 * np.pi / 180.0)\n",
    "plt.axis('equal')\n",
    "plt.xlabel('x')\n",
    "plt.ylabel('y')\n"
   ]
  },
  {
   "attachments": {},
   "cell_type": "markdown",
   "metadata": {},
   "source": [
    "## 5.2.2 Probabilistic Kinematics"
   ]
  },
  {
   "attachments": {},
   "cell_type": "markdown",
   "metadata": {},
   "source": [
    "$p(x_t \\mid u_t, x_{t-1})$\n",
    "\n",
    "- $x_t, x_{t-1}$: robot poses\n",
    "- $u_t$: motion command, odometry model (distance traveled, angle turned).\n",
    "\n"
   ]
  },
  {
   "attachments": {},
   "cell_type": "markdown",
   "metadata": {},
   "source": [
    "# 5.3 Velocity Motion Model"
   ]
  },
  {
   "attachments": {},
   "cell_type": "markdown",
   "metadata": {},
   "source": [
    "- $u_t = \\begin{bmatrix} v_t \\\\ w_t \\end{bmatrix}$\n",
    "- Positive rotational velocities $w_t$ induce a counterclockwise rotation (left turns).\n",
    "- Positives $v_t$ correspond to forward motion.\n",
    "\n"
   ]
  },
  {
   "attachments": {},
   "cell_type": "markdown",
   "metadata": {},
   "source": [
    "## 5.3.1 Closed Form Calculation"
   ]
  },
  {
   "attachments": {},
   "cell_type": "markdown",
   "metadata": {},
   "source": [
    "A possible algorithm for computing the probability $p(x_t \\mid u_t, x_{t-1})$ is shown in Table 5.1. It accepts as input an initial pose $x_{t-1} = (x, y, \\theta)^T$, a control $u_t = (v, w)^T$, and a hypothesized successor pose $x_t = (x', y', \\theta')^T$. It outputs the probability $p(x_t \\mid u_t, x_{t-1})$ of being at $x_t$ after executing control $u_t$ beginning in state $x_{t-1}$, assuming that the control is carried out for the fixed duration $\\Delta t$.\n",
    "\n",
    "The parameters $\\alpha_1$ to $\\alpha_6$ are robot-specific motion error parameters.\n",
    "  - $\\alpha_1, \\alpha_2$ : transitional error\n",
    "  - $\\alpha_3, \\alpha_4$ : angular error\n",
    "\n",
    "The function $prob(x, b^2)$ models the motion error. It computes the proability of its parameter $x$ under a zero-centered random variable with variance $b^2$."
   ]
  },
  {
   "cell_type": "code",
   "execution_count": 42,
   "metadata": {},
   "outputs": [
    {
     "name": "stdout",
     "output_type": "stream",
     "text": [
      "a:  0.02564152522257168\n",
      "b2:  0.06973920880217872\n",
      "1/sqrt  1.5106767937256231\n",
      "exp  0.9952971894000514\n",
      "y  1.503572366886994\n",
      "a:  -0.11396210176866362\n",
      "b2:  0.0034869604401089357\n",
      "1/sqrt  6.755952005603843\n",
      "exp  0.15531883019037607\n",
      "y  1.049326562332714\n",
      "a:  -0.4281213671276429\n",
      "b2:  0.0034869604401089357\n",
      "1/sqrt  6.755952005603843\n",
      "exp  3.854029158631915e-12\n",
      "y  2.603763602391498e-11\n",
      "1.503572366886994 1.049326562332714 2.603763602391498e-11\n"
     ]
    }
   ],
   "source": [
    "import numpy as np\n",
    "\n",
    "def prob_normal_distribution(a, b2):\n",
    "   print('a: ', a)\n",
    "   print('b2: ', b2)\n",
    "\n",
    "   y = 1.0 / np.sqrt(2.0 * np.pi * b2) * np.exp(-1 / 2 * (a**2) / b2 )\n",
    "\n",
    "   print('1/sqrt ', 1.0 / np.sqrt(2.0 * np.pi * b2) )\n",
    "   print('exp ', np.exp(-1 / 2 * (a**2) / b2 ))\n",
    "   print('y ', y)\n",
    "\n",
    "   return y\n",
    "\n",
    "def prob_triangular_distribution(a, b2):\n",
    "   y = 1.0 / np.sqrt(6 * b2) - np.abs(a) / (6*b2)\n",
    "\n",
    "   return np.clip(y, 0)\n",
    "\n",
    "def motion_model_velocity(pos_cur, command_cur, pos_prev, prob, alpha, delta_t=0.1):\n",
    "   \"\"\"pos_cur: x_t\n",
    "      command_cur: u_t\n",
    "      pos_prev: x_{t-1}\n",
    "      prob: probability function\n",
    "   \"\"\"\n",
    "   x_cur = pos_cur[0]\n",
    "   y_cur = pos_cur[1]\n",
    "   angle_cur = pos_cur[2]\n",
    "\n",
    "   x_prev = pos_prev[0]\n",
    "   y_prev = pos_prev[1]\n",
    "   angle_prev = pos_prev[2]\n",
    "\n",
    "   v = command_cur[0]\n",
    "   w = command_cur[1]\n",
    "\n",
    "   sin_a_prev = np.sin(angle_prev)\n",
    "   cos_a_prev = np.cos(angle_prev)\n",
    "\n",
    "   num = (x_prev - x_cur)*cos_a_prev + (y_prev - y_cur)*sin_a_prev\n",
    "   denom = (y_prev - y_cur)*cos_a_prev - (x_prev - x_cur)*sin_a_prev\n",
    "   mu = 1/2 * num / denom\n",
    "\n",
    "   # center of circle (xc, yc)\n",
    "   xc = (x_prev + x_cur) / 2.0 + mu * (y_prev - y_cur)\n",
    "   yc = (y_prev + y_cur) / 2.0 + mu * (x_cur - x_prev)\n",
    "   rc = np.sqrt((x_prev - xc)**2 + (y_prev - yc)**2)\n",
    "   \n",
    "   delta_angle = np.arctan2(y_cur - yc, x_cur - xc) - np.arctan2(y_prev - yc, x_prev - xc)\n",
    "   v_hat = delta_angle / delta_t * rc\n",
    "   w_hat = delta_angle / delta_t\n",
    "   g_hat = (angle_cur - angle_prev) / delta_t - w_hat\n",
    "\n",
    "   a1 = alpha[0]\n",
    "   a2 = alpha[1]\n",
    "   a3 = alpha[2]\n",
    "   a4 = alpha[3]\n",
    "   a5 = alpha[4]\n",
    "   a6 = alpha[5]\n",
    "\n",
    "   pv = prob(v - v_hat, a1*v**2 + a2*w**2)\n",
    "   pw = prob(w - w_hat, a3*v**2 + a4*w**2)\n",
    "   pg = prob(g_hat, a5*v**2 + a6*w**2)\n",
    "\n",
    "   return pv, pw, pg\n",
    "\n",
    "\n",
    "pos_cur = [1.0, 0.1, 0.0]\n",
    "pos_prev = [0.54, 0.0, 0.0*np.pi]\n",
    "command_cur = [0.5, 0.1*np.pi]\n",
    "alpha = [0.2, 0.2, 0.01, 0.01, 0.01, 0.01]\n",
    "delta_t = 1.0\n",
    "\n",
    "pv, pw, pg = motion_model_velocity(pos_cur, command_cur, pos_prev, prob_normal_distribution, alpha, delta_t)\n",
    "\n",
    "print(pv, pw, pg)\n",
    "\n"
   ]
  }
 ],
 "metadata": {
  "kernelspec": {
   "display_name": "Python 3",
   "language": "python",
   "name": "python3"
  },
  "language_info": {
   "codemirror_mode": {
    "name": "ipython",
    "version": 3
   },
   "file_extension": ".py",
   "mimetype": "text/x-python",
   "name": "python",
   "nbconvert_exporter": "python",
   "pygments_lexer": "ipython3",
   "version": "3.7.3 (v3.7.3:ef4ec6ed12, Mar 25 2019, 22:22:05) [MSC v.1916 64 bit (AMD64)]"
  },
  "orig_nbformat": 4,
  "vscode": {
   "interpreter": {
    "hash": "d49c3f6d6dd49f9272b571d9fad348ab55b8c6c3f691520d74ed0af1f69c3dd8"
   }
  }
 },
 "nbformat": 4,
 "nbformat_minor": 2
}
